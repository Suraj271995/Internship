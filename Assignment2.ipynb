{
 "cells": [
  {
   "cell_type": "markdown",
   "id": "1829a38f",
   "metadata": {},
   "source": [
    "# Q.No. 1:- "
   ]
  },
  {
   "cell_type": "code",
   "execution_count": 1,
   "id": "c453c6f2",
   "metadata": {},
   "outputs": [
    {
     "name": "stdout",
     "output_type": "stream",
     "text": [
      "Python:Exercises::PHP:exercises:\n"
     ]
    }
   ],
   "source": [
    "def replace_space_comma_dot_with_colon(text):\n",
    "    modified_text = text.replace(' ', ':').replace(',', ':').replace('.', ':')\n",
    "    return modified_text\n",
    "\n",
    "sample_text = 'Python Exercises, PHP exercises.'\n",
    "result = replace_space_comma_dot_with_colon(sample_text)\n",
    "\n",
    "print(result)\n"
   ]
  },
  {
   "cell_type": "markdown",
   "id": "0d754d40",
   "metadata": {},
   "source": [
    "# Q.No.2"
   ]
  },
  {
   "cell_type": "code",
   "execution_count": 2,
   "id": "8f6c474e",
   "metadata": {},
   "outputs": [
    {
     "name": "stdout",
     "output_type": "stream",
     "text": [
      "Apple\n",
      "and\n",
      "are\n",
      "elephant\n",
      "an\n",
      "animal\n"
     ]
    }
   ],
   "source": [
    "import re\n",
    "\n",
    "def find_words_starting_with_a_or_e(text):\n",
    "    pattern = r'\\b[aeAE]\\w+\\b'\n",
    "    result = re.findall(pattern, text)\n",
    "    return result\n",
    "\n",
    "sample_text = \"Apple and banana are fruits, while elephant is an animal.\"\n",
    "\n",
    "result = find_words_starting_with_a_or_e(sample_text)\n",
    "for word in result:\n",
    "    print(word)\n"
   ]
  },
  {
   "cell_type": "markdown",
   "id": "937f9e1a",
   "metadata": {},
   "source": [
    "# Q.No. 3"
   ]
  },
  {
   "cell_type": "code",
   "execution_count": 3,
   "id": "d410da4b",
   "metadata": {},
   "outputs": [
    {
     "name": "stdout",
     "output_type": "stream",
     "text": [
      "This\n",
      "sample\n",
      "sentence\n",
      "with\n",
      "some\n",
      "words\n",
      "that\n",
      "least\n",
      "characters\n",
      "long\n"
     ]
    }
   ],
   "source": [
    "import re\n",
    "\n",
    "def find_words_at_least_4_chars(text):\n",
    "    pattern = re.compile(r'\\b\\w{4,}\\b')\n",
    "    \n",
    "    result = pattern.findall(text)\n",
    "    return result\n",
    "\n",
    "sample_text = \"This is a sample sentence with some words that are at least 4 characters long.\"\n",
    "\n",
    "result = find_words_at_least_4_chars(sample_text)\n",
    "for word in result:\n",
    "    print(word)\n"
   ]
  },
  {
   "cell_type": "markdown",
   "id": "d37cd3a5",
   "metadata": {},
   "source": [
    "# Q.No. 4"
   ]
  },
  {
   "cell_type": "code",
   "execution_count": 4,
   "id": "f3c2db68",
   "metadata": {},
   "outputs": [
    {
     "name": "stdout",
     "output_type": "stream",
     "text": [
      "Three-character words:\n",
      "[]\n",
      "Four-character words:\n",
      "['This', 'with']\n",
      "Five-character words:\n",
      "['words']\n"
     ]
    }
   ],
   "source": [
    "import re\n",
    "\n",
    "def find_words_with_lengths(text):\n",
    "    pattern3 = re.compile(r'\\b\\w{3}\\b')\n",
    "    pattern4 = re.compile(r'\\b\\w{4}\\b')\n",
    "    pattern5 = re.compile(r'\\b\\w{5}\\b')\n",
    "    \n",
    "    result3 = pattern3.findall(text)\n",
    "    result4 = pattern4.findall(text)\n",
    "    result5 = pattern5.findall(text)\n",
    "    \n",
    "    return result3, result4, result5\n",
    "\n",
    "sample_text = \"This is a sample sentence with words of varying lengths.\"\n",
    "\n",
    "result3, result4, result5 = find_words_with_lengths(sample_text)\n",
    "\n",
    "print(\"Three-character words:\")\n",
    "print(result3)\n",
    "\n",
    "print(\"Four-character words:\")\n",
    "print(result4)\n",
    "\n",
    "print(\"Five-character words:\")\n",
    "print(result5)\n"
   ]
  },
  {
   "cell_type": "markdown",
   "id": "e25a6aed",
   "metadata": {},
   "source": [
    "# Q.No. 5"
   ]
  },
  {
   "cell_type": "code",
   "execution_count": 5,
   "id": "b178defd",
   "metadata": {},
   "outputs": [
    {
     "name": "stdout",
     "output_type": "stream",
     "text": [
      "example \n",
      "hr@fliprobo \n",
      "github \n",
      "Hello \n",
      "Data \n"
     ]
    }
   ],
   "source": [
    "import re\n",
    "\n",
    "def remove_parentheses(strings):\n",
    "    pattern = re.compile(r'\\([^)]*\\)')\n",
    "    results = []\n",
    "\n",
    "    for string in strings:\n",
    "        result = re.sub(pattern, '', string)\n",
    "        results.append(result)\n",
    "\n",
    "    return results\n",
    "\n",
    "sample_strings = [\"example (.com)\", \"hr@fliprobo (.com)\", \"github (.com)\", \"Hello (Data Science World)\", \"Data (Scientist)\"]\n",
    "\n",
    "result = remove_parentheses(sample_strings)\n",
    "for string in result:\n",
    "    print(string)\n"
   ]
  },
  {
   "cell_type": "markdown",
   "id": "5a98a4c0",
   "metadata": {},
   "source": [
    "# Q.No. 6"
   ]
  },
  {
   "cell_type": "code",
   "execution_count": null,
   "id": "10c3203d",
   "metadata": {},
   "outputs": [],
   "source": [
    "import re\n",
    "\n",
    "def remove_parentheses(text):\n",
    "    pattern = r'\\([^)]*\\)' \n",
    "    result = re.sub(pattern, '', text)\n",
    "    return result\n",
    "\n",
    "with open('sample.txt', 'r') as file:\n",
    "    lines = file.readlines()\n",
    "\n",
    "modified_lines = [remove_parentheses(line) for line in lines]\n",
    "\n",
    "with open('sample.txt', 'w') as file:\n",
    "    file.writelines(modified_lines)\n"
   ]
  },
  {
   "cell_type": "markdown",
   "id": "93f02c5e",
   "metadata": {},
   "source": [
    "# Q.No. 7"
   ]
  },
  {
   "cell_type": "code",
   "execution_count": 7,
   "id": "fb78151f",
   "metadata": {},
   "outputs": [
    {
     "name": "stdout",
     "output_type": "stream",
     "text": [
      "['Importance', 'Of', 'Regular', 'Expressions', 'In', 'Python']\n"
     ]
    }
   ],
   "source": [
    "import re\n",
    "\n",
    "sample_text = \"ImportanceOfRegularExpressionsInPython\"\n",
    "\n",
    "uppercase_words = re.findall(r'[A-Z][a-z]*', sample_text)\n",
    "\n",
    "print(uppercase_words)\n"
   ]
  },
  {
   "cell_type": "markdown",
   "id": "92d369d3",
   "metadata": {},
   "source": [
    "# Q.No. 8"
   ]
  },
  {
   "cell_type": "code",
   "execution_count": 8,
   "id": "ed1bd57d",
   "metadata": {},
   "outputs": [
    {
     "name": "stdout",
     "output_type": "stream",
     "text": [
      "RegularExpression1 IsAn2 ImportantTopic3 InPython\n"
     ]
    }
   ],
   "source": [
    "import re\n",
    "\n",
    "def insert_spaces_before_words_starting_with_numbers(text):\n",
    "    result = re.sub(r'(\\d)([A-Za-z])', r'\\1 \\2', text)\n",
    "    return result\n",
    "sample_text = \"RegularExpression1IsAn2ImportantTopic3InPython\"\n",
    "\n",
    "result = insert_spaces_before_words_starting_with_numbers(sample_text)\n",
    "print(result)\n"
   ]
  },
  {
   "cell_type": "markdown",
   "id": "13ab555b",
   "metadata": {},
   "source": [
    "# Q.No. 9"
   ]
  },
  {
   "cell_type": "code",
   "execution_count": 9,
   "id": "16b65526",
   "metadata": {},
   "outputs": [
    {
     "name": "stdout",
     "output_type": "stream",
     "text": [
      "R egularE xpression1I sA n2I mportantT opic3I nP ython\n"
     ]
    }
   ],
   "source": [
    "import re\n",
    "\n",
    "def insert_spaces_before_words_starting_with_caps_or_numbers(text):\n",
    "    result = re.sub(r'(\\d|[A-Z])([a-z])', r'\\1 \\2', text)\n",
    "    return result\n",
    "\n",
    "sample_text = \"RegularExpression1IsAn2ImportantTopic3InPython\"\n",
    "\n",
    "result = insert_spaces_before_words_starting_with_caps_or_numbers(sample_text)\n",
    "print(result)\n"
   ]
  },
  {
   "cell_type": "markdown",
   "id": "27f27a8f",
   "metadata": {},
   "source": [
    "# Q.No. 10"
   ]
  },
  {
   "cell_type": "code",
   "execution_count": null,
   "id": "61b816ff",
   "metadata": {},
   "outputs": [],
   "source": [
    "import re\n",
    "\n",
    "def extract_emails_from_text(text):\n",
    "    email_pattern = r'\\b[A-Za-z0-9._%+-]+@[A-Za-z0-9.-]+\\.[A-Z|a-z]{2,7}\\b'\n",
    "    return re.findall(email_pattern, text)\n",
    "\n",
    "with open('sample.txt', 'r') as file:\n",
    "    file_text = file.read()\n",
    "\n",
    "email_addresses = extract_emails_from_text(file_text)\n",
    "\n",
    "for email in email_addresses:\n",
    "    print(email)\n"
   ]
  },
  {
   "cell_type": "markdown",
   "id": "348e8b01",
   "metadata": {},
   "source": [
    "# Q.No. 11"
   ]
  },
  {
   "cell_type": "code",
   "execution_count": 11,
   "id": "d1829bee",
   "metadata": {},
   "outputs": [
    {
     "name": "stdout",
     "output_type": "stream",
     "text": [
      "'Hello123' is a valid string.\n",
      "'Good_Morning' is a valid string.\n",
      "'123_456' is a valid string.\n",
      "'Special$Character' is not a valid string.\n",
      "'UPPERCASE' is a valid string.\n"
     ]
    }
   ],
   "source": [
    "import re\n",
    "\n",
    "def is_valid_string(input_string):\n",
    "    pattern = r'^[a-zA-Z0-9_]+$'\n",
    "\n",
    "    match = re.match(pattern, input_string)\n",
    "\n",
    "    return match is not None\n",
    "\n",
    "test_strings = [\"Hello123\", \"Good_Morning\", \"123_456\", \"Special$Character\", \"UPPERCASE\"]\n",
    "\n",
    "for test_string in test_strings:\n",
    "    if is_valid_string(test_string):\n",
    "        print(f\"'{test_string}' is a valid string.\")\n",
    "    else:\n",
    "        print(f\"'{test_string}' is not a valid string.\")\n"
   ]
  },
  {
   "cell_type": "markdown",
   "id": "f7e828ea",
   "metadata": {},
   "source": [
    "# Q.No. 12"
   ]
  },
  {
   "cell_type": "code",
   "execution_count": 12,
   "id": "5cc8c70c",
   "metadata": {},
   "outputs": [
    {
     "name": "stdout",
     "output_type": "stream",
     "text": [
      "'123abc' starts with the number 123.\n",
      "'456xyz' does not start with the number 123.\n",
      "'789start' does not start with the number 123.\n",
      "'hello123' does not start with the number 123.\n",
      "'987world' does not start with the number 123.\n"
     ]
    }
   ],
   "source": [
    "def starts_with_number(input_string, number):\n",
    "    number_str = str(number)\n",
    "\n",
    "    return input_string.startswith(number_str)\n",
    "\n",
    "\n",
    "test_strings = [\"123abc\", \"456xyz\", \"789start\", \"hello123\", \"987world\"]\n",
    "\n",
    "specific_number = 123  \n",
    "for test_string in test_strings:\n",
    "    if starts_with_number(test_string, specific_number):\n",
    "        print(f\"'{test_string}' starts with the number {specific_number}.\")\n",
    "    else:\n",
    "        print(f\"'{test_string}' does not start with the number {specific_number}.\")\n"
   ]
  },
  {
   "cell_type": "markdown",
   "id": "23075035",
   "metadata": {},
   "source": [
    "# Q.No. 13"
   ]
  },
  {
   "cell_type": "code",
   "execution_count": 13,
   "id": "92720325",
   "metadata": {},
   "outputs": [
    {
     "name": "stdout",
     "output_type": "stream",
     "text": [
      "Original IP: 192.168.001.001, Cleaned IP: 192.168.1.1\n",
      "Original IP: 010.02.003.004, Cleaned IP: 10.2.3.4\n",
      "Original IP: 0.01.01.005, Cleaned IP: 0.1.1.5\n"
     ]
    }
   ],
   "source": [
    "import re\n",
    "\n",
    "def remove_leading_zeros(ip_address):\n",
    "    cleaned_ip = re.sub(r'\\b0+(\\d+)', r'\\1', ip_address)\n",
    "    return cleaned_ip\n",
    "\n",
    "ip_addresses = [\"192.168.001.001\", \"010.02.003.004\", \"0.01.01.005\"]\n",
    "\n",
    "for ip in ip_addresses:\n",
    "    cleaned_ip = remove_leading_zeros(ip)\n",
    "    print(f\"Original IP: {ip}, Cleaned IP: {cleaned_ip}\")\n"
   ]
  },
  {
   "cell_type": "markdown",
   "id": "9fc47c25",
   "metadata": {},
   "source": [
    "# Q.No. 14"
   ]
  },
  {
   "cell_type": "code",
   "execution_count": null,
   "id": "6f364d34",
   "metadata": {},
   "outputs": [],
   "source": [
    "import re\n",
    "\n",
    "def extract_dates_from_file(file_path):\n",
    "    with open(file_path, 'r') as file:\n",
    "        text = file.read()\n",
    "\n",
    "    pattern = r'\\b([A-Z][a-z]+ \\d{1,2}(st|nd|rd|th) \\d{4})\\b'\n",
    "\n",
    "    dates = re.findall(pattern, text)\n",
    "\n",
    "    return dates\n",
    "\n",
    "file_path = 'sample.txt'\n",
    "\n",
    "extracted_dates = extract_dates_from_file(file_path)\n",
    "for date in extracted_dates:\n",
    "    print(date)\n"
   ]
  },
  {
   "cell_type": "markdown",
   "id": "7babb49b",
   "metadata": {},
   "source": [
    "# Q.No. 15"
   ]
  },
  {
   "cell_type": "code",
   "execution_count": 14,
   "id": "89313116",
   "metadata": {},
   "outputs": [
    {
     "name": "stdout",
     "output_type": "stream",
     "text": [
      "Found words: ['fox', 'dog']\n"
     ]
    }
   ],
   "source": [
    "def search_literals(text, searched_words):\n",
    "    found_words = []\n",
    "    for word in searched_words:\n",
    "        if word in text:\n",
    "            found_words.append(word)\n",
    "    return found_words\n",
    "\n",
    "sample_text = 'The quick brown fox jumps over the lazy dog.'\n",
    "\n",
    "searched_words = ['fox', 'dog', 'horse']\n",
    "\n",
    "found_words = search_literals(sample_text, searched_words)\n",
    "\n",
    "print(\"Found words:\", found_words)\n"
   ]
  },
  {
   "cell_type": "markdown",
   "id": "1df98a13",
   "metadata": {},
   "source": [
    "# Q.No. 16"
   ]
  },
  {
   "cell_type": "code",
   "execution_count": 15,
   "id": "6be24732",
   "metadata": {},
   "outputs": [
    {
     "name": "stdout",
     "output_type": "stream",
     "text": [
      "'fox' found at position(s): [16]\n"
     ]
    }
   ],
   "source": [
    "def find_pattern(text, pattern):\n",
    "    positions = []\n",
    "    start = -1\n",
    "    while True:\n",
    "        start = text.find(pattern, start + 1)\n",
    "        if start == -1:\n",
    "            break\n",
    "        positions.append(start)\n",
    "    return positions\n",
    "\n",
    "sample_text = 'The quick brown fox jumps over the lazy dog.'\n",
    "\n",
    "pattern = 'fox'\n",
    "\n",
    "positions = find_pattern(sample_text, pattern)\n",
    "\n",
    "if positions:\n",
    "    print(f\"'{pattern}' found at position(s): {positions}\")\n",
    "else:\n",
    "    print(f\"'{pattern}' not found in the text.\")\n"
   ]
  },
  {
   "cell_type": "markdown",
   "id": "482349c6",
   "metadata": {},
   "source": [
    "# Q.No. 17"
   ]
  },
  {
   "cell_type": "code",
   "execution_count": 16,
   "id": "b42c5956",
   "metadata": {},
   "outputs": [
    {
     "name": "stdout",
     "output_type": "stream",
     "text": [
      "Found substrings: ['exercises', 'exercises', 'exercises']\n"
     ]
    }
   ],
   "source": [
    "import re\n",
    "\n",
    "def find_substrings(text, pattern):\n",
    "    substrings = re.findall(pattern, text)\n",
    "    return substrings\n",
    "\n",
    "sample_text = 'Python exercises, PHP exercises, C# exercises'\n",
    "\n",
    "pattern = 'exercises'\n",
    "\n",
    "found_substrings = find_substrings(sample_text, pattern)\n",
    "\n",
    "if found_substrings:\n",
    "    print(\"Found substrings:\", found_substrings)\n",
    "else:\n",
    "    print(\"No substrings found.\")\n"
   ]
  },
  {
   "cell_type": "markdown",
   "id": "71c4e9ac",
   "metadata": {},
   "source": [
    "# Q.No. 18"
   ]
  },
  {
   "cell_type": "code",
   "execution_count": 17,
   "id": "3d79afbb",
   "metadata": {},
   "outputs": [
    {
     "name": "stdout",
     "output_type": "stream",
     "text": [
      "Occurrences and Positions:\n",
      "'exercises' found at positions 7 to 16\n",
      "'exercises' found at positions 22 to 31\n",
      "'exercises' found at positions 36 to 45\n",
      "'exercises' found at positions 54 to 63\n"
     ]
    }
   ],
   "source": [
    "import re\n",
    "\n",
    "def find_occurrences_and_positions(text, pattern):\n",
    "    occurrences = []\n",
    "    for match in re.finditer(pattern, text):\n",
    "        start = match.start()\n",
    "        end = match.end()\n",
    "        occurrences.append((match.group(), start, end))\n",
    "    return occurrences\n",
    "\n",
    "sample_text = 'Python exercises, PHP exercises, C# exercises, Python exercises'\n",
    "\n",
    "pattern = 'exercises'\n",
    "\n",
    "found_occurrences = find_occurrences_and_positions(sample_text, pattern)\n",
    "\n",
    "if found_occurrences:\n",
    "    print(\"Occurrences and Positions:\")\n",
    "    for occurrence, start, end in found_occurrences:\n",
    "        print(f\"'{occurrence}' found at positions {start} to {end}\")\n",
    "else:\n",
    "    print(\"No occurrences found.\")\n"
   ]
  },
  {
   "cell_type": "markdown",
   "id": "ac4941ec",
   "metadata": {},
   "source": [
    "# Q.No. 19"
   ]
  },
  {
   "cell_type": "code",
   "execution_count": 18,
   "id": "99cccace",
   "metadata": {},
   "outputs": [
    {
     "name": "stdout",
     "output_type": "stream",
     "text": [
      "Original date (yyyy-mm-dd): 2023-10-08\n",
      "Converted date (dd-mm-yyyy): 08-10-2023\n"
     ]
    }
   ],
   "source": [
    "def convert_date_format(date):\n",
    "    year, month, day = date.split('-')\n",
    "    \n",
    "    new_date = f'{day}-{month}-{year}'\n",
    "    \n",
    "    return new_date\n",
    "\n",
    "date_yyyy_mm_dd = \"2023-10-08\"\n",
    "\n",
    "date_dd_mm_yyyy = convert_date_format(date_yyyy_mm_dd)\n",
    "print(f\"Original date (yyyy-mm-dd): {date_yyyy_mm_dd}\")\n",
    "print(f\"Converted date (dd-mm-yyyy): {date_dd_mm_yyyy}\")\n"
   ]
  },
  {
   "cell_type": "markdown",
   "id": "bc5d94b8",
   "metadata": {},
   "source": [
    "# Q.No. 20"
   ]
  },
  {
   "cell_type": "code",
   "execution_count": 19,
   "id": "40ce9f7c",
   "metadata": {},
   "outputs": [
    {
     "name": "stdout",
     "output_type": "stream",
     "text": [
      "['01.12', '145.8', '3.01', '27.25', '0.25']\n"
     ]
    }
   ],
   "source": [
    "import re\n",
    "\n",
    "def find_decimal_numbers(text):\n",
    "    pattern = re.compile(r'\\b\\d+\\.\\d{1,2}\\b')\n",
    "    matches = pattern.findall(text)\n",
    "    return matches\n",
    "\n",
    "sample_text = \"01.12 0132.123 2.31875 145.8 3.01 27.25 0.25\"\n",
    "\n",
    "decimal_numbers = find_decimal_numbers(sample_text)\n",
    "print(decimal_numbers)\n"
   ]
  },
  {
   "cell_type": "markdown",
   "id": "7b68bdd5",
   "metadata": {},
   "source": [
    "# Q.No. 21"
   ]
  },
  {
   "cell_type": "code",
   "execution_count": 20,
   "id": "c16f0213",
   "metadata": {},
   "outputs": [
    {
     "name": "stdout",
     "output_type": "stream",
     "text": [
      "Number: 123, Position: 7\n",
      "Number: 5, Position: 11\n"
     ]
    }
   ],
   "source": [
    "def separate_numbers_and_positions(text):\n",
    "    words = text.split()\n",
    "    for index, word in enumerate(words, 1):\n",
    "        if word.isdigit():\n",
    "            print(f\"Number: {word}, Position: {index}\")\n",
    "\n",
    "sample_text = \"This is a sample string with 123 numbers at position 5 and 10.\"\n",
    "\n",
    "separate_numbers_and_positions(sample_text)\n"
   ]
  },
  {
   "cell_type": "markdown",
   "id": "eb00fdaa",
   "metadata": {},
   "source": [
    "# Q.No. 22"
   ]
  },
  {
   "cell_type": "code",
   "execution_count": 21,
   "id": "c977c4b4",
   "metadata": {},
   "outputs": [
    {
     "name": "stdout",
     "output_type": "stream",
     "text": [
      "The maximum numeric value in the text is: 950\n"
     ]
    }
   ],
   "source": [
    "import re\n",
    "\n",
    "def extract_maximum_numeric_value(text):\n",
    "    numeric_values = re.findall(r'\\d+', text)\n",
    "    \n",
    "    if numeric_values:\n",
    "        max_value = max(map(int, numeric_values))\n",
    "        return max_value\n",
    "    else:\n",
    "        return None\n",
    "\n",
    "sample_text = \"My marks in each semester are: 947, 896, 926, 524, 734, 950, 642\"\n",
    "\n",
    "max_numeric_value = extract_maximum_numeric_value(sample_text)\n",
    "\n",
    "if max_numeric_value is not None:\n",
    "    print(f\"The maximum numeric value in the text is: {max_numeric_value}\")\n",
    "else:\n",
    "    print(\"No numeric values found in the text.\")\n"
   ]
  },
  {
   "cell_type": "markdown",
   "id": "a69158e7",
   "metadata": {},
   "source": [
    "# Q.No. 23"
   ]
  },
  {
   "cell_type": "code",
   "execution_count": 22,
   "id": "d750fc01",
   "metadata": {},
   "outputs": [
    {
     "name": "stdout",
     "output_type": "stream",
     "text": [
      "Regular Expression Is An Important Topic In Python\n"
     ]
    }
   ],
   "source": [
    "import re\n",
    "\n",
    "def insert_spaces_before_capital_words(text):\n",
    "    result = re.sub(r'([A-Z][a-z]+)', r' \\1', text)\n",
    "    return result.strip()\n",
    "sample_text = \"RegularExpressionIsAnImportantTopicInPython\"\n",
    "\n",
    "result = insert_spaces_before_capital_words(sample_text)\n",
    "print(result)\n"
   ]
  },
  {
   "cell_type": "markdown",
   "id": "18135550",
   "metadata": {},
   "source": [
    "# Q.No. 24"
   ]
  },
  {
   "cell_type": "code",
   "execution_count": 23,
   "id": "297d90df",
   "metadata": {},
   "outputs": [
    {
     "name": "stdout",
     "output_type": "stream",
     "text": [
      "['Python', 'High', 'Level', 'Programming', 'Language', 'Regular', 'Expressions']\n"
     ]
    }
   ],
   "source": [
    "import re\n",
    "\n",
    "sample_text = \"Python is a HighLevelProgrammingLanguage with RegularExpressions.\"\n",
    "\n",
    "\n",
    "pattern = r'[A-Z][a-z]+'\n",
    "\n",
    "matches = re.findall(pattern, sample_text)\n",
    "\n",
    "print(matches)\n"
   ]
  },
  {
   "cell_type": "markdown",
   "id": "cee9674c",
   "metadata": {},
   "source": [
    "# Q.No. 25"
   ]
  },
  {
   "cell_type": "code",
   "execution_count": 24,
   "id": "668f503a",
   "metadata": {},
   "outputs": [
    {
     "name": "stdout",
     "output_type": "stream",
     "text": [
      "Hello world\n"
     ]
    }
   ],
   "source": [
    "import re\n",
    "\n",
    "def remove_continuous_duplicates(sentence):\n",
    "    cleaned_sentence = re.sub(r'\\b(\\w+)\\s+\\1\\b', r'\\1', sentence, flags=re.I)\n",
    "    return cleaned_sentence\n",
    "\n",
    "sample_text = \"Hello hello world world\"\n",
    "\n",
    "result = remove_continuous_duplicates(sample_text)\n",
    "print(result)\n"
   ]
  },
  {
   "cell_type": "markdown",
   "id": "d66df48f",
   "metadata": {},
   "source": [
    "# Q.No. 26"
   ]
  },
  {
   "cell_type": "code",
   "execution_count": 25,
   "id": "65de2877",
   "metadata": {},
   "outputs": [
    {
     "name": "stdout",
     "output_type": "stream",
     "text": [
      "Hello world\n"
     ]
    }
   ],
   "source": [
    "import re\n",
    "\n",
    "def remove_continuous_duplicates(sentence):\n",
    "    cleaned_sentence = re.sub(r'\\b(\\w+)\\s+\\1\\b', r'\\1', sentence, flags=re.I)\n",
    "    return cleaned_sentence\n",
    "\n",
    "sample_text = \"Hello hello world world\"\n",
    "\n",
    "result = remove_continuous_duplicates(sample_text)\n",
    "print(result)\n"
   ]
  },
  {
   "cell_type": "markdown",
   "id": "3f9c8715",
   "metadata": {},
   "source": [
    "# Q.No. 27"
   ]
  },
  {
   "cell_type": "code",
   "execution_count": 26,
   "id": "2962c595",
   "metadata": {},
   "outputs": [
    {
     "name": "stdout",
     "output_type": "stream",
     "text": [
      "['#Doltiwal', '#xyzabc', '#Demonetization']\n"
     ]
    }
   ],
   "source": [
    "import re\n",
    "\n",
    "def extract_hashtags(text):\n",
    "    pattern = r'#\\w+'\n",
    "\n",
    "    hashtags = re.findall(pattern, text)\n",
    "\n",
    "    return hashtags\n",
    "\n",
    "sample_text = \"RT @kapil_kausik: #Doltiwal I mean #xyzabc is 'hurt' by #Demonetization as the same has rendered USELESS <ed><U+00A0><U+00BD><ed><U+00B1><U+0089> 'acquired funds' No wo\"\n",
    "\n",
    "extracted_hashtags = extract_hashtags(sample_text)\n",
    "\n",
    "print(extracted_hashtags)\n"
   ]
  },
  {
   "cell_type": "markdown",
   "id": "a155004c",
   "metadata": {},
   "source": [
    "# Q.No. 28"
   ]
  },
  {
   "cell_type": "code",
   "execution_count": 27,
   "id": "344091d5",
   "metadata": {},
   "outputs": [
    {
     "name": "stdout",
     "output_type": "stream",
     "text": [
      "@Jags123456 Bharat band on 28??<ed><ed>Those who  are protesting #demonetization  are all different party leaders\n"
     ]
    }
   ],
   "source": [
    "import re\n",
    "\n",
    "def remove_unicode_symbols(text):\n",
    "    pattern = r'<U\\+[0-9A-Fa-f]+>'\n",
    "\n",
    "    cleaned_text = re.sub(pattern, '', text)\n",
    "\n",
    "    return cleaned_text\n",
    "\n",
    "sample_text = \"@Jags123456 Bharat band on 28??<ed><U+00A0><U+00BD><ed><U+00B8><U+0082>Those who  are protesting #demonetization  are all different party leaders\"\n",
    "\n",
    "cleaned_text = remove_unicode_symbols(sample_text)\n",
    "\n",
    "print(cleaned_text)\n"
   ]
  },
  {
   "cell_type": "markdown",
   "id": "b37cd21c",
   "metadata": {},
   "source": [
    "# Q.No. 29"
   ]
  },
  {
   "cell_type": "code",
   "execution_count": null,
   "id": "0932a3db",
   "metadata": {},
   "outputs": [],
   "source": [
    "import re\n",
    "\n",
    "def extract_dates_from_file(file_path):\n",
    "    with open(file_path, 'r') as file:\n",
    "        text = file.read()\n",
    "\n",
    "    pattern = r'\\d{2}-\\d{2}-\\d{4}'\n",
    "\n",
    "    dates = re.findall(pattern, text)\n",
    "\n",
    "    return dates\n",
    "\n",
    "file_path = 'sample.txt'\n",
    "\n",
    "extracted_dates = extract_dates_from_file(file_path)\n",
    "\n",
    "if extracted_dates:\n",
    "    print(\"Extracted Dates:\")\n",
    "    for date in extracted_dates:\n",
    "        print(date)\n",
    "else:\n",
    "    print(\"No dates found in the text.\")\n"
   ]
  },
  {
   "cell_type": "markdown",
   "id": "e2f600f8",
   "metadata": {},
   "source": [
    "# Q.No. 30"
   ]
  },
  {
   "cell_type": "code",
   "execution_count": 28,
   "id": "50bcac25",
   "metadata": {},
   "outputs": [
    {
     "name": "stdout",
     "output_type": "stream",
     "text": [
      " following example creates  ArrayList  a capacity   elements. 4 elements   added   ArrayList   ArrayList  trimmed accordingly.\n"
     ]
    }
   ],
   "source": [
    "import re\n",
    "\n",
    "def remove_words_between_lengths(text):\n",
    "    pattern = re.compile(r'\\b\\w{2,4}\\b')\n",
    "\n",
    "    cleaned_text = pattern.sub('', text)\n",
    "\n",
    "    return cleaned_text\n",
    "\n",
    "sample_text = \"The following example creates an ArrayList with a capacity of 50 elements. 4 elements are then added to the ArrayList and the ArrayList is trimmed accordingly.\"\n",
    "\n",
    "cleaned_text = remove_words_between_lengths(sample_text)\n",
    "\n",
    "print(cleaned_text)\n"
   ]
  }
 ],
 "metadata": {
  "kernelspec": {
   "display_name": "Python 3 (ipykernel)",
   "language": "python",
   "name": "python3"
  },
  "language_info": {
   "codemirror_mode": {
    "name": "ipython",
    "version": 3
   },
   "file_extension": ".py",
   "mimetype": "text/x-python",
   "name": "python",
   "nbconvert_exporter": "python",
   "pygments_lexer": "ipython3",
   "version": "3.11.4"
  }
 },
 "nbformat": 4,
 "nbformat_minor": 5
}
